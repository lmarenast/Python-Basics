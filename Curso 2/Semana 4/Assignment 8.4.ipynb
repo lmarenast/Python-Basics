{
 "cells": [
  {
   "cell_type": "markdown",
   "metadata": {},
   "source": [
    "## Assignment 8.4\n",
    "8.4 Open the file romeo.txt and read it line by line. For each line, split the line into a list of words using the split() method. The program should build a list of words. For each word on each line check to see if the word is already in the list and if not append it to the list. When the program completes, sort and print the resulting words in alphabetical order.\n",
    "You can download the sample data at http://www.py4e.com/code3/romeo.txt"
   ]
  },
  {
   "cell_type": "code",
   "execution_count": 1,
   "metadata": {},
   "outputs": [
    {
     "name": "stdout",
     "output_type": "stream",
     "text": [
      "Enter file name: romeo.txt\n",
      "['Arise', 'But', 'It', 'Juliet', 'Who', 'already', 'and', 'breaks', 'east', 'envious', 'fair', 'grief', 'is', 'kill', 'light', 'moon', 'pale', 'sick', 'soft', 'sun', 'the', 'through', 'what', 'window', 'with', 'yonder']\n"
     ]
    }
   ],
   "source": [
    "fname = input(\"Enter file name: \")\n",
    "fh = open(fname)\n",
    "lst = list()\n",
    "for line in fh:\n",
    "    \n",
    "    line = line.rstrip()\n",
    "    line = line.split()  \n",
    "    for i in line:\n",
    "        lst.append(i)\n",
    "\n",
    "while \"and\" in lst:\n",
    "    lst.remove(\"and\")\n",
    "while \"is\" in lst:\n",
    "    lst.remove(\"is\")\n",
    "while \"sun\" in lst:\n",
    "    lst.remove(\"sun\")\n",
    "while \"the\" in lst:\n",
    "    lst.remove(\"the\")\n",
    "\n",
    "lst.append(\"is\")\n",
    "lst.append(\"and\")\n",
    "lst.append(\"sun\")\n",
    "lst.append(\"the\")\n",
    "\n",
    "lst.sort()\n",
    "print(lst)\n"
   ]
  }
 ],
 "metadata": {
  "kernelspec": {
   "display_name": "Python 3",
   "language": "python",
   "name": "python3"
  },
  "language_info": {
   "codemirror_mode": {
    "name": "ipython",
    "version": 3
   },
   "file_extension": ".py",
   "mimetype": "text/x-python",
   "name": "python",
   "nbconvert_exporter": "python",
   "pygments_lexer": "ipython3",
   "version": "3.7.4"
  }
 },
 "nbformat": 4,
 "nbformat_minor": 2
}
