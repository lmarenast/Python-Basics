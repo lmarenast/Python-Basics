{
 "cells": [
  {
   "cell_type": "markdown",
   "metadata": {},
   "source": [
    "## Assignment 10.2\n",
    "10.2 Write a program to read through the mbox-short.txt and figure out the distribution by hour of the day for each of the messages. You can pull the hour out from the 'From ' line by finding the time and then splitting the string a second time using a colon.\n",
    "From stephen.marquard@uct.ac.za Sat Jan  5 09:14:16 2008\n",
    "Once you have accumulated the counts for each hour, print out the counts, sorted by hour as shown below."
   ]
  },
  {
   "cell_type": "code",
   "execution_count": 17,
   "metadata": {},
   "outputs": [
    {
     "name": "stdout",
     "output_type": "stream",
     "text": [
      "Enter file name: \n",
      "04 3\n",
      "06 1\n",
      "07 1\n",
      "09 2\n",
      "10 3\n",
      "11 6\n",
      "14 1\n",
      "15 2\n",
      "16 4\n",
      "17 2\n",
      "18 1\n",
      "19 1\n"
     ]
    }
   ],
   "source": [
    "fname = input(\"Enter file name: \")\n",
    "if len(fname) < 1 : fname = \"mbox-short.txt\" #Solo para presionar enter, no escribir el archivo txt\n",
    "count = 0\n",
    "lst = []\n",
    "dic = {}\n",
    "fh = open(fname)\n",
    "count = 0\n",
    "for line in fh:\n",
    "    if line.startswith(\"From\") and \"From:\" not in line:\n",
    "        count = count + 1\n",
    "        words = line.split()\n",
    "        time = words[5] #Six word(time)\n",
    "        time = time.split(\":\")\n",
    "        hour = time[0]\n",
    "        lst.append(hour) #Agregamos cada hora a una lista para poder iterar nuevamente y agregarlos a un diccionario \n",
    "for i in lst:\n",
    "    dic[i]=dic.get(i,0)+1 #Creamos el histograma\n",
    "    \n",
    "for k, v in sorted(dic.items()):\n",
    "    print(k,v)"
   ]
  }
 ],
 "metadata": {
  "kernelspec": {
   "display_name": "Python 3",
   "language": "python",
   "name": "python3"
  },
  "language_info": {
   "codemirror_mode": {
    "name": "ipython",
    "version": 3
   },
   "file_extension": ".py",
   "mimetype": "text/x-python",
   "name": "python",
   "nbconvert_exporter": "python",
   "pygments_lexer": "ipython3",
   "version": "3.7.4"
  }
 },
 "nbformat": 4,
 "nbformat_minor": 2
}
