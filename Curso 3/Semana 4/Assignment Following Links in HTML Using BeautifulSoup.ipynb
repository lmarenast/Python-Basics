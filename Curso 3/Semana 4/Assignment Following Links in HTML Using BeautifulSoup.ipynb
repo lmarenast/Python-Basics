{
 "cells": [
  {
   "cell_type": "markdown",
   "metadata": {},
   "source": [
    "## Assignment: Following Links in HTML Using BeautifulSoup\n",
    "#### Following Links in Python\n",
    "\n",
    "In this assignment you will write a Python program that expands on http://www.py4e.com/code3/urllinks.py. The program will use urllib to read the HTML from the data files below, extract the href= vaues from the anchor tags, scan for a tag that is in a particular position relative to the first name in the list, follow that link and repeat the process a number of times and report the last name you find.\n",
    "\n",
    "We provide two files for this assignment. One is a sample file where we give you the name for your testing and the other is the actual data you need to process for the assignment\n",
    "\n",
    "Sample problem: Start at http://py4e-data.dr-chuck.net/known_by_Fikret.html\n",
    "\n",
    "Find the link at position 3 (the first name is 1). Follow that link. Repeat this process 4 times. The answer is the last name that you retrieve.\n",
    "Sequence of names: Fikret Montgomery Mhairade Butchi Anayah\n",
    "Last name in sequence: Anayah\n",
    "Actual problem: Start at: http://py4e-data.dr-chuck.net/known_by_Zachariya.html\n",
    "\n",
    "Find the link at position 18 (the first name is 1). Follow that link. Repeat this process 7 times. The answer is the last name that you retrieve.\n",
    "Hint: The first character of the name of the last page that you will load is: A\n",
    "\n",
    "#### Strategy\n",
    "The web pages tweak the height between the links and hide the page after a few seconds to make it difficult for you to do the assignment without writing a Python program. But frankly with a little effort and patience you can overcome these attempts to make it a little harder to complete the assignment without writing a Python program. But that is not the point. The point is to write a clever Python program to solve the program\n",
    "\n",
    "#### Sample execution\n",
    "\n",
    "Here is a sample execution of a solution:\n",
    "<img src=\"./Captura4.PNG\" ></img>\n",
    "The answer to the assignment for this execution is \"Anayah\".\n",
    "\n"
   ]
  },
  {
   "cell_type": "code",
   "execution_count": 2,
   "metadata": {},
   "outputs": [
    {
     "name": "stdout",
     "output_type": "stream",
     "text": [
      "Enter position:18\n",
      "Enter count:7\n",
      "Adison\n"
     ]
    }
   ],
   "source": [
    "import urllib.request, urllib.parse, urllib.error\n",
    "from bs4 import BeautifulSoup\n",
    "import ssl\n",
    "\n",
    "# Ignore SSL certificate errors\n",
    "ctx = ssl.create_default_context()\n",
    "ctx.check_hostname = False\n",
    "ctx.verify_mode = ssl.CERT_NONE\n",
    "\n",
    "#url = input('Enter - ')\n",
    "url = 'http://py4e-data.dr-chuck.net/known_by_Zachariya.html'\n",
    "pos = int(input('Enter position:'))\n",
    "count = int(input('Enter count:'))\n",
    "lst = []\n",
    "names = []\n",
    "for i in range(count):\n",
    "    html = urllib.request.urlopen(url, context=ctx).read()\n",
    "    soup = BeautifulSoup(html, 'html.parser')\n",
    "\n",
    "    tags = soup('a')\n",
    "    for tag in tags:\n",
    "        temp = tag.get('href', None)\n",
    "        lst.append(temp)\n",
    "        names.append(tag.text)\n",
    "\n",
    "    url=lst[pos-1]\n",
    "    name = names[pos-1]\n",
    "    lst.clear() #Reiniciamos las listas\n",
    "    names.clear()\n",
    "print(name)"
   ]
  },
  {
   "cell_type": "markdown",
   "metadata": {},
   "source": [
    "Otra forma de solución(sacada de internet) pero con ciclo while es la siguiente"
   ]
  },
  {
   "cell_type": "code",
   "execution_count": 5,
   "metadata": {},
   "outputs": [
    {
     "name": "stdout",
     "output_type": "stream",
     "text": [
      "Enter count:7\n",
      "Enter position:18\n",
      "Retrieving:  http://py4e-data.dr-chuck.net/known_by_Zachariya.html\n",
      "Retrieving:  http://py4e-data.dr-chuck.net/known_by_Madison.html\n",
      "Retrieving:  http://py4e-data.dr-chuck.net/known_by_Briagha.html\n",
      "Retrieving:  http://py4e-data.dr-chuck.net/known_by_Manus.html\n",
      "Retrieving:  http://py4e-data.dr-chuck.net/known_by_Kia.html\n",
      "Retrieving:  http://py4e-data.dr-chuck.net/known_by_Carmen.html\n",
      "Retrieving:  http://py4e-data.dr-chuck.net/known_by_Talha.html\n",
      "Retrieving:  http://py4e-data.dr-chuck.net/known_by_Adison.html\n"
     ]
    }
   ],
   "source": [
    "import urllib.request, urllib.parse, urllib.error\n",
    "from bs4 import BeautifulSoup\n",
    "import ssl\n",
    "\n",
    "# Ignore SSL certificate errors\n",
    "ctx = ssl.create_default_context()\n",
    "ctx.check_hostname = False\n",
    "ctx.verify_mode = ssl.CERT_NONE\n",
    "\n",
    "url = \"http://py4e-data.dr-chuck.net/known_by_Zachariya.html\"\n",
    "html = urllib.request.urlopen(url, context=ctx).read()\n",
    "soup = BeautifulSoup(html, 'html.parser')\n",
    "\n",
    "# get user input for how many times to search\n",
    "count = int(input('Enter count:'))\n",
    "\n",
    "# get user input for which url to click on\n",
    "position = int(input('Enter position:'))-1\n",
    "\n",
    "while count >= 0:\n",
    "    # re-reads the current url\n",
    "    html = urllib.request.urlopen(url, context=ctx).read()\n",
    "    # creates a new soup object\n",
    "    soup = BeautifulSoup(html, 'html.parser')\n",
    "    # searches the page for all <a> tags\n",
    "    tags = soup('a')\n",
    "    print(\"Retrieving: \", url)\n",
    "    # upates the current url\n",
    "    url = tags[position].get(\"href\", None)\n",
    "    count = count - 1"
   ]
  }
 ],
 "metadata": {
  "kernelspec": {
   "display_name": "Python 3",
   "language": "python",
   "name": "python3"
  },
  "language_info": {
   "codemirror_mode": {
    "name": "ipython",
    "version": 3
   },
   "file_extension": ".py",
   "mimetype": "text/x-python",
   "name": "python",
   "nbconvert_exporter": "python",
   "pygments_lexer": "ipython3",
   "version": "3.7.4"
  }
 },
 "nbformat": 4,
 "nbformat_minor": 2
}
